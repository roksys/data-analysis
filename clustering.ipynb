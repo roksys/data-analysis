{
 "cells": [
  {
   "cell_type": "code",
   "execution_count": 157,
   "metadata": {},
   "outputs": [],
   "source": [
    "import pandas as pd\n",
    "import numpy as np\n",
    "import matplotlib.pyplot as plt\n",
    "from scipy.optimize import fmin_tnc\n",
    "from copy import deepcopy"
   ]
  },
  {
   "cell_type": "code",
   "execution_count": 158,
   "metadata": {},
   "outputs": [],
   "source": [
    "df = pd.read_csv('athlete_events.csv', delimiter=',') \n",
    "# filter by sport - basketball\n",
    "df = df.loc[(df['Sport'] == \"Basketball\")]\n",
    "df = df.dropna()"
   ]
  },
  {
   "cell_type": "code",
   "execution_count": 159,
   "metadata": {},
   "outputs": [],
   "source": [
    "female_players = df.loc[(df['Sex'] == \"F\")]\n",
    "male_players = df.loc[(df['Sex'] == \"M\")]"
   ]
  },
  {
   "cell_type": "code",
   "execution_count": 160,
   "metadata": {},
   "outputs": [
    {
     "data": {
      "image/png": "[encoded data removed]",
      "text/plain": [
       "<Figure size 432x288 with 1 Axes>"
      ]
     },
     "metadata": {
      "needs_background": "light"
     },
     "output_type": "display_data"
    }
   ],
   "source": [
    "plt.scatter(female_players['Height'], female_players['Weight'], s=2, label='Female')\n",
    "plt.scatter(male_players['Height'], male_players['Weight'], s=2, label='Male')\n",
    "plt.legend()\n",
    "plt.ylabel(\"Weight in KG\")\n",
    "plt.xlabel(\"Height in CM\")\n",
    "plt.show()"
   ]
  },
  {
   "cell_type": "code",
   "execution_count": 161,
   "metadata": {},
   "outputs": [],
   "source": [
    "def dist(a, b, ax=1):\n",
    "    # Euclidean Distance Caculator\n",
    "    return np.linalg.norm(a - b, axis=ax)"
   ]
  },
  {
   "cell_type": "code",
   "execution_count": 162,
   "metadata": {},
   "outputs": [
    {
     "data": {
      "text/html": [
       "<div>\n",
       "<style scoped>\n",
       "    .dataframe tbody tr th:only-of-type {\n",
       "        vertical-align: middle;\n",
       "    }\n",
       "\n",
       "    .dataframe tbody tr th {\n",
       "        vertical-align: top;\n",
       "    }\n",
       "\n",
       "    .dataframe thead th {\n",
       "        text-align: right;\n",
       "    }\n",
       "</style>\n",
       "<table border=\"1\" class=\"dataframe\">\n",
       "  <thead>\n",
       "    <tr style=\"text-align: right;\">\n",
       "      <th></th>\n",
       "      <th>ID</th>\n",
       "      <th>Name</th>\n",
       "      <th>Sex</th>\n",
       "      <th>Age</th>\n",
       "      <th>Height</th>\n",
       "      <th>Weight</th>\n",
       "      <th>Team</th>\n",
       "      <th>NOC</th>\n",
       "      <th>Games</th>\n",
       "      <th>Year</th>\n",
       "      <th>Season</th>\n",
       "      <th>City</th>\n",
       "      <th>Sport</th>\n",
       "      <th>Event</th>\n",
       "      <th>Medal</th>\n",
       "    </tr>\n",
       "  </thead>\n",
       "  <tbody>\n",
       "    <tr>\n",
       "      <th>609</th>\n",
       "      <td>351</td>\n",
       "      <td>Julius Shareef Abdur-Rahim</td>\n",
       "      <td>1</td>\n",
       "      <td>23.0</td>\n",
       "      <td>202.0</td>\n",
       "      <td>104.0</td>\n",
       "      <td>United States</td>\n",
       "      <td>USA</td>\n",
       "      <td>2000 Summer</td>\n",
       "      <td>2000</td>\n",
       "      <td>Summer</td>\n",
       "      <td>Sydney</td>\n",
       "      <td>Basketball</td>\n",
       "      <td>Basketball Men's Basketball</td>\n",
       "      <td>Gold</td>\n",
       "    </tr>\n",
       "    <tr>\n",
       "      <th>1029</th>\n",
       "      <td>576</td>\n",
       "      <td>Alejandro \"lex\" Abrines Redondo</td>\n",
       "      <td>1</td>\n",
       "      <td>23.0</td>\n",
       "      <td>198.0</td>\n",
       "      <td>93.0</td>\n",
       "      <td>Spain</td>\n",
       "      <td>ESP</td>\n",
       "      <td>2016 Summer</td>\n",
       "      <td>2016</td>\n",
       "      <td>Summer</td>\n",
       "      <td>Rio de Janeiro</td>\n",
       "      <td>Basketball</td>\n",
       "      <td>Basketball Men's Basketball</td>\n",
       "      <td>Bronze</td>\n",
       "    </tr>\n",
       "    <tr>\n",
       "      <th>1035</th>\n",
       "      <td>580</td>\n",
       "      <td>Svetlana Olegovna Abrosimova</td>\n",
       "      <td>0</td>\n",
       "      <td>28.0</td>\n",
       "      <td>188.0</td>\n",
       "      <td>77.0</td>\n",
       "      <td>Russia</td>\n",
       "      <td>RUS</td>\n",
       "      <td>2008 Summer</td>\n",
       "      <td>2008</td>\n",
       "      <td>Summer</td>\n",
       "      <td>Beijing</td>\n",
       "      <td>Basketball</td>\n",
       "      <td>Basketball Women's Basketball</td>\n",
       "      <td>Bronze</td>\n",
       "    </tr>\n",
       "    <tr>\n",
       "      <th>1807</th>\n",
       "      <td>1000</td>\n",
       "      <td>Dainius Adomaitis</td>\n",
       "      <td>1</td>\n",
       "      <td>26.0</td>\n",
       "      <td>202.0</td>\n",
       "      <td>100.0</td>\n",
       "      <td>Lithuania</td>\n",
       "      <td>LTU</td>\n",
       "      <td>2000 Summer</td>\n",
       "      <td>2000</td>\n",
       "      <td>Summer</td>\n",
       "      <td>Sydney</td>\n",
       "      <td>Basketball</td>\n",
       "      <td>Basketball Men's Basketball</td>\n",
       "      <td>Bronze</td>\n",
       "    </tr>\n",
       "    <tr>\n",
       "      <th>1856</th>\n",
       "      <td>1020</td>\n",
       "      <td>Adriana Aparecida dos Santos</td>\n",
       "      <td>0</td>\n",
       "      <td>25.0</td>\n",
       "      <td>180.0</td>\n",
       "      <td>61.0</td>\n",
       "      <td>Brazil</td>\n",
       "      <td>BRA</td>\n",
       "      <td>1996 Summer</td>\n",
       "      <td>1996</td>\n",
       "      <td>Summer</td>\n",
       "      <td>Atlanta</td>\n",
       "      <td>Basketball</td>\n",
       "      <td>Basketball Women's Basketball</td>\n",
       "      <td>Silver</td>\n",
       "    </tr>\n",
       "  </tbody>\n",
       "</table>\n",
       "</div>"
      ],
      "text/plain": [
       "        ID                             Name  Sex   Age  Height  Weight  \\\n",
       "609    351       Julius Shareef Abdur-Rahim    1  23.0   202.0   104.0   \n",
       "1029   576  Alejandro \"lex\" Abrines Redondo    1  23.0   198.0    93.0   \n",
       "1035   580     Svetlana Olegovna Abrosimova    0  28.0   188.0    77.0   \n",
       "1807  1000                Dainius Adomaitis    1  26.0   202.0   100.0   \n",
       "1856  1020     Adriana Aparecida dos Santos    0  25.0   180.0    61.0   \n",
       "\n",
       "               Team  NOC        Games  Year  Season            City  \\\n",
       "609   United States  USA  2000 Summer  2000  Summer          Sydney   \n",
       "1029          Spain  ESP  2016 Summer  2016  Summer  Rio de Janeiro   \n",
       "1035         Russia  RUS  2008 Summer  2008  Summer         Beijing   \n",
       "1807      Lithuania  LTU  2000 Summer  2000  Summer          Sydney   \n",
       "1856         Brazil  BRA  1996 Summer  1996  Summer         Atlanta   \n",
       "\n",
       "           Sport                          Event   Medal  \n",
       "609   Basketball    Basketball Men's Basketball    Gold  \n",
       "1029  Basketball    Basketball Men's Basketball  Bronze  \n",
       "1035  Basketball  Basketball Women's Basketball  Bronze  \n",
       "1807  Basketball    Basketball Men's Basketball  Bronze  \n",
       "1856  Basketball  Basketball Women's Basketball  Silver  "
      ]
     },
     "execution_count": 162,
     "metadata": {},
     "output_type": "execute_result"
    }
   ],
   "source": [
    "# Number of clusters for predicting athlete gender\n",
    "k = 2\n",
    "f1 = df['Height'].astype(float)\n",
    "f2 = df['Weight'].astype(float)\n",
    "# merging two columns into np array\n",
    "X = np.array(list(zip(f1, f2)))\n",
    "from sklearn.preprocessing import LabelEncoder\n",
    "labelEncoder = LabelEncoder()\n",
    "labelEncoder.fit(df['Sex'])\n",
    "df['Sex'] = labelEncoder.transform(df['Sex'])\n",
    "Y = np.array(df['Sex'])\n",
    "df.head()"
   ]
  },
  {
   "cell_type": "code",
   "execution_count": 163,
   "metadata": {},
   "outputs": [],
   "source": [
    "C_X = np.random.randint(np.min(f1), np.max(f1), size=k)\n",
    "C_Y = np.random.randint(np.min(f2), np.max(f2), size=k)\n",
    "C = np.array(list(zip(C_X, C_Y)), dtype=np.float32)"
   ]
  },
  {
   "cell_type": "code",
   "execution_count": 164,
   "metadata": {},
   "outputs": [
    {
     "data": {
      "text/plain": [
       "<matplotlib.collections.PathCollection at 0x125538198>"
      ]
     },
     "execution_count": 164,
     "metadata": {},
     "output_type": "execute_result"
    },
    {
     "data": {
      "image/png": "[encoded data removed]",
      "text/plain": [
       "<Figure size 432x288 with 1 Axes>"
      ]
     },
     "metadata": {
      "needs_background": "light"
     },
     "output_type": "display_data"
    }
   ],
   "source": [
    "plt.scatter(f1, f2, s=7)\n",
    "plt.scatter(C_X, C_Y, marker='*', s=200, c='r')\n"
   ]
  },
  {
   "cell_type": "code",
   "execution_count": 165,
   "metadata": {},
   "outputs": [],
   "source": [
    "# Array for storing old values of centroids\n",
    "C_old = np.zeros(C.shape)"
   ]
  },
  {
   "cell_type": "code",
   "execution_count": 166,
   "metadata": {},
   "outputs": [],
   "source": [
    "clusters = np.zeros(len(X))\n",
    "# Counting distance between new centroids and old centroids\n",
    "error = dist(C, C_old, None)\n",
    "# Looping till there is no error (no distance between C and C_old)\n",
    "while error != 0:\n",
    "    # Assigning each value to its closest cluster\n",
    "    for i in range(len(X)):\n",
    "        # caluclating distance between current point in array X and Centroid\n",
    "        distances = dist(X[i], C)\n",
    "        # returning min value index of distances array\n",
    "        cluster = np.argmin(distances)\n",
    "        clusters[i] = cluster\n",
    "    # Storing the old centroid values\n",
    "    C_old = deepcopy(C)\n",
    "    # Finding the new centroids by taking the average value\n",
    "    for i in range(k):\n",
    "        points = [X[j] for j in range(len(X)) if clusters[j] == i]\n",
    "        C[i] = np.mean(points, axis=0)\n",
    "    error = dist(C, C_old, None)"
   ]
  },
  {
   "cell_type": "code",
   "execution_count": 167,
   "metadata": {},
   "outputs": [
    {
     "data": {
      "text/plain": [
       "<matplotlib.collections.PathCollection at 0x1273684a8>"
      ]
     },
     "execution_count": 167,
     "metadata": {},
     "output_type": "execute_result"
    },
    {
     "data": {
      "image/png": "[encoded data removed]",
      "text/plain": [
       "<Figure size 432x288 with 1 Axes>"
      ]
     },
     "metadata": {
      "needs_background": "light"
     },
     "output_type": "display_data"
    }
   ],
   "source": [
    "# Ploting clustered results\n",
    "colors = ['r', 'g']\n",
    "fig, ax = plt.subplots()\n",
    "for i in range(k):\n",
    "    points = np.array([X[j] for j in range(len(X)) if clusters[j] == i])\n",
    "    ax.scatter(points[:, 0], points[:, 1], s=7, c=colors[i])\n",
    "ax.scatter(C[:, 0], C[:, 1], marker='*', s=200, c='blue')"
   ]
  },
  {
   "cell_type": "code",
   "execution_count": 168,
   "metadata": {},
   "outputs": [
    {
     "data": {
      "text/plain": [
       "array([[183.45168,  74.95539],\n",
       "       [202.28572, 100.35931]], dtype=float32)"
      ]
     },
     "execution_count": 168,
     "metadata": {},
     "output_type": "execute_result"
    }
   ],
   "source": [
    "# Our centroids\n",
    "C"
   ]
  },
  {
   "cell_type": "code",
   "execution_count": 169,
   "metadata": {},
   "outputs": [],
   "source": [
    "# Lets compare our centroids with the ones calculated by sklearn\n",
    "from sklearn.cluster import KMeans\n",
    "kmeans = KMeans(n_clusters=k).fit(X)\n",
    "labels = kmeans.predict(X)\n",
    "skl_centroids = kmeans.cluster_centers_"
   ]
  },
  {
   "cell_type": "code",
   "execution_count": 170,
   "metadata": {},
   "outputs": [
    {
     "data": {
      "text/plain": [
       "array([[182.90215264,  74.34050881],\n",
       "       [201.8200409 ,  99.599182  ]])"
      ]
     },
     "execution_count": 170,
     "metadata": {},
     "output_type": "execute_result"
    }
   ],
   "source": [
    "skl_centroids"
   ]
  },
  {
   "cell_type": "code",
   "execution_count": 171,
   "metadata": {},
   "outputs": [],
   "source": [
    "# As we can see centroids calculted from scratch\n",
    "# are more or less the same as the ones from sklearn lib."
   ]
  },
  {
   "cell_type": "code",
   "execution_count": 173,
   "metadata": {},
   "outputs": [
    {
     "name": "stdout",
     "output_type": "stream",
     "text": [
      "0.78\n"
     ]
    }
   ],
   "source": [
    "# 1 - male, 0 - female\n",
    "# C[0] - male, C[1] - female\n",
    "correct = 0\n",
    "for i in range(len(X)):\n",
    "    prediction = dist(X[i], C)\n",
    "    if prediction[1] > prediction[0]:\n",
    "        predicted_gender = 0\n",
    "    else:\n",
    "        predicted_gender = 1\n",
    "    if predicted_gender == Y[i]:\n",
    "        correct += 1\n",
    "\n",
    "print(correct/len(X))"
   ]
  },
  {
   "cell_type": "code",
   "execution_count": 174,
   "metadata": {},
   "outputs": [
    {
     "data": {
      "text/plain": [
       "array([[183.45168,  74.95539],\n",
       "       [202.28572, 100.35931]], dtype=float32)"
      ]
     },
     "execution_count": 174,
     "metadata": {},
     "output_type": "execute_result"
    }
   ],
   "source": [
    "C"
   ]
  },
  {
   "cell_type": "code",
   "execution_count": 175,
   "metadata": {},
   "outputs": [],
   "source": [
    "# Athlete gender prediction using K-Means clustering with two clusters (male, female) \n",
    "# based on athlete weight and height gives accuracy of 78%.\n",
    "# This dataset has few numerical features (Height, Weight, Year, Age) that could be used for K-Means clustering,\n",
    "# but it could improbe accuracy."
   ]
  },
  {
   "cell_type": "code",
   "execution_count": 176,
   "metadata": {},
   "outputs": [
    {
     "data": {
      "text/html": [
       "<div>\n",
       "<style scoped>\n",
       "    .dataframe tbody tr th:only-of-type {\n",
       "        vertical-align: middle;\n",
       "    }\n",
       "\n",
       "    .dataframe tbody tr th {\n",
       "        vertical-align: top;\n",
       "    }\n",
       "\n",
       "    .dataframe thead th {\n",
       "        text-align: right;\n",
       "    }\n",
       "</style>\n",
       "<table border=\"1\" class=\"dataframe\">\n",
       "  <thead>\n",
       "    <tr style=\"text-align: right;\">\n",
       "      <th></th>\n",
       "      <th>ID</th>\n",
       "      <th>Age</th>\n",
       "      <th>Height</th>\n",
       "      <th>Weight</th>\n",
       "    </tr>\n",
       "    <tr>\n",
       "      <th>Year</th>\n",
       "      <th></th>\n",
       "      <th></th>\n",
       "      <th></th>\n",
       "      <th></th>\n",
       "    </tr>\n",
       "  </thead>\n",
       "  <tbody>\n",
       "    <tr>\n",
       "      <th>1976</th>\n",
       "      <td>76997.694444</td>\n",
       "      <td>23.416667</td>\n",
       "      <td>180.166667</td>\n",
       "      <td>73.750000</td>\n",
       "    </tr>\n",
       "    <tr>\n",
       "      <th>1980</th>\n",
       "      <td>69266.500000</td>\n",
       "      <td>24.388889</td>\n",
       "      <td>180.638889</td>\n",
       "      <td>73.972222</td>\n",
       "    </tr>\n",
       "    <tr>\n",
       "      <th>1984</th>\n",
       "      <td>71740.085714</td>\n",
       "      <td>21.628571</td>\n",
       "      <td>182.371429</td>\n",
       "      <td>72.857143</td>\n",
       "    </tr>\n",
       "    <tr>\n",
       "      <th>1988</th>\n",
       "      <td>66250.611111</td>\n",
       "      <td>23.055556</td>\n",
       "      <td>183.333333</td>\n",
       "      <td>71.694444</td>\n",
       "    </tr>\n",
       "    <tr>\n",
       "      <th>1992</th>\n",
       "      <td>72222.031250</td>\n",
       "      <td>25.250000</td>\n",
       "      <td>183.093750</td>\n",
       "      <td>72.093750</td>\n",
       "    </tr>\n",
       "  </tbody>\n",
       "</table>\n",
       "</div>"
      ],
      "text/plain": [
       "                ID        Age      Height     Weight\n",
       "Year                                                \n",
       "1976  76997.694444  23.416667  180.166667  73.750000\n",
       "1980  69266.500000  24.388889  180.638889  73.972222\n",
       "1984  71740.085714  21.628571  182.371429  72.857143\n",
       "1988  66250.611111  23.055556  183.333333  71.694444\n",
       "1992  72222.031250  25.250000  183.093750  72.093750"
      ]
     },
     "execution_count": 176,
     "metadata": {},
     "output_type": "execute_result"
    }
   ],
   "source": [
    "female_players.groupby(['Year']).mean().head()"
   ]
  },
  {
   "cell_type": "code",
   "execution_count": 177,
   "metadata": {},
   "outputs": [
    {
     "data": {
      "text/html": [
       "<div>\n",
       "<style scoped>\n",
       "    .dataframe tbody tr th:only-of-type {\n",
       "        vertical-align: middle;\n",
       "    }\n",
       "\n",
       "    .dataframe tbody tr th {\n",
       "        vertical-align: top;\n",
       "    }\n",
       "\n",
       "    .dataframe thead th {\n",
       "        text-align: right;\n",
       "    }\n",
       "</style>\n",
       "<table border=\"1\" class=\"dataframe\">\n",
       "  <thead>\n",
       "    <tr style=\"text-align: right;\">\n",
       "      <th></th>\n",
       "      <th>ID</th>\n",
       "      <th>Age</th>\n",
       "      <th>Height</th>\n",
       "      <th>Weight</th>\n",
       "    </tr>\n",
       "    <tr>\n",
       "      <th>Year</th>\n",
       "      <th></th>\n",
       "      <th></th>\n",
       "      <th></th>\n",
       "      <th></th>\n",
       "    </tr>\n",
       "  </thead>\n",
       "  <tbody>\n",
       "    <tr>\n",
       "      <th>1936</th>\n",
       "      <td>74405.666667</td>\n",
       "      <td>24.533333</td>\n",
       "      <td>188.000000</td>\n",
       "      <td>81.066667</td>\n",
       "    </tr>\n",
       "    <tr>\n",
       "      <th>1948</th>\n",
       "      <td>49905.863636</td>\n",
       "      <td>24.181818</td>\n",
       "      <td>188.681818</td>\n",
       "      <td>85.181818</td>\n",
       "    </tr>\n",
       "    <tr>\n",
       "      <th>1952</th>\n",
       "      <td>64679.058824</td>\n",
       "      <td>22.705882</td>\n",
       "      <td>191.941176</td>\n",
       "      <td>86.352941</td>\n",
       "    </tr>\n",
       "    <tr>\n",
       "      <th>1956</th>\n",
       "      <td>65965.565217</td>\n",
       "      <td>23.260870</td>\n",
       "      <td>191.347826</td>\n",
       "      <td>89.782609</td>\n",
       "    </tr>\n",
       "    <tr>\n",
       "      <th>1960</th>\n",
       "      <td>74345.656250</td>\n",
       "      <td>23.343750</td>\n",
       "      <td>193.781250</td>\n",
       "      <td>88.718750</td>\n",
       "    </tr>\n",
       "  </tbody>\n",
       "</table>\n",
       "</div>"
      ],
      "text/plain": [
       "                ID        Age      Height     Weight\n",
       "Year                                                \n",
       "1936  74405.666667  24.533333  188.000000  81.066667\n",
       "1948  49905.863636  24.181818  188.681818  85.181818\n",
       "1952  64679.058824  22.705882  191.941176  86.352941\n",
       "1956  65965.565217  23.260870  191.347826  89.782609\n",
       "1960  74345.656250  23.343750  193.781250  88.718750"
      ]
     },
     "execution_count": 177,
     "metadata": {},
     "output_type": "execute_result"
    }
   ],
   "source": [
    "male_players.groupby(['Year']).mean().head()"
   ]
  },
  {
   "cell_type": "code",
   "execution_count": 178,
   "metadata": {},
   "outputs": [],
   "source": [
    "train = df[['Year', 'Age', 'Height', 'Weight']]"
   ]
  },
  {
   "cell_type": "code",
   "execution_count": 179,
   "metadata": {},
   "outputs": [],
   "source": [
    "X1 = np.array(train.astype(float))"
   ]
  },
  {
   "cell_type": "code",
   "execution_count": 180,
   "metadata": {},
   "outputs": [
    {
     "data": {
      "text/plain": [
       "array([[1998.31622177,   25.96714579,  184.65092402,   76.05749487],\n",
       "       [1978.70565302,   24.66081871,  199.2748538 ,   96.78752437]])"
      ]
     },
     "execution_count": 180,
     "metadata": {},
     "output_type": "execute_result"
    }
   ],
   "source": [
    "kmeans_4_features = KMeans(n_clusters=k).fit(X1)\n",
    "labels = kmeans_4_features.predict(X1)\n",
    "skl_centroids_4 = kmeans_4_features.cluster_centers_\n",
    "skl_centroids_4"
   ]
  },
  {
   "cell_type": "code",
   "execution_count": 181,
   "metadata": {},
   "outputs": [
    {
     "name": "stdout",
     "output_type": "stream",
     "text": [
      "0.919\n"
     ]
    }
   ],
   "source": [
    "for i in range(len(X1)):\n",
    "    prediction = dist(X1[i], kmeans_4_features.cluster_centers_)\n",
    "    if prediction[0] > prediction[1]:\n",
    "        predicted_gender = 0\n",
    "    else:\n",
    "        predicted_gender = 1\n",
    "    if predicted_gender == Y[i]:\n",
    "        correct += 1\n",
    "\n",
    "print(correct/len(X1))"
   ]
  },
  {
   "cell_type": "code",
   "execution_count": 101,
   "metadata": {},
   "outputs": [],
   "source": [
    "# Adding 2 more features (Year and Age) improved accuracy from 72% to 91.9%."
   ]
  }
 ],
 "metadata": {
  "kernelspec": {
   "display_name": "Python 3",
   "language": "python",
   "name": "python3"
  },
  "language_info": {
   "codemirror_mode": {
    "name": "ipython",
    "version": 3
   },
   "file_extension": ".py",
   "mimetype": "text/x-python",
   "name": "python",
   "nbconvert_exporter": "python",
   "pygments_lexer": "ipython3",
   "version": "3.7.3"
  }
 },
 "nbformat": 4,
 "nbformat_minor": 2
}
